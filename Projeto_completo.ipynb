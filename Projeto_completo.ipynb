{
  "nbformat": 4,
  "nbformat_minor": 0,
  "metadata": {
    "colab": {
      "provenance": []
    },
    "kernelspec": {
      "name": "python3",
      "display_name": "Python 3"
    },
    "language_info": {
      "name": "python"
    }
  },
  "cells": [
    {
      "cell_type": "markdown",
      "source": [
        "# Aula 1"
      ],
      "metadata": {
        "id": "wRLQJ-w4CgYl"
      }
    },
    {
      "cell_type": "markdown",
      "source": [
        "## Vídeo 1.2 - Biblioteca e os dados"
      ],
      "metadata": {
        "id": "e6crW9ELCk9n"
      }
    },
    {
      "cell_type": "markdown",
      "source": [
        "GeoPandas é uma biblioteca de código aberto em Python que facilita a manipulação e análise de dados geoespaciais. Ela estende a funcionalidade da biblioteca pandas, amplamente usada para manipulação de dados, adicionando suporte para operações geoespaciais. Isso inclui a capacidade de ler e escrever diferentes formatos de arquivo geoespaciais (como Shapefiles, GeoJSON, etc.), realizar operações geoespaciais (como união espacial, interseção, etc.), e criar visualizações geoespaciais. A GeoPandas integra-se bem com outras bibliotecas Python amplamente utilizadas, como Matplotlib para visualização e NumPy para manipulação de dados numéricos. Ao proporcionar uma interface de alto nível e fácil de usar para operações geoespaciais complexas, a GeoPandas tornou-se uma ferramenta importante para geocientistas, urbanistas e outros que trabalham com dados geoespaciais."
      ],
      "metadata": {
        "id": "Rcf5ynlKbUPR"
      }
    },
    {
      "cell_type": "code",
      "source": [
        "!pip install geopandas"
      ],
      "metadata": {
        "id": "sLpUAIUWCKfD"
      },
      "execution_count": null,
      "outputs": []
    },
    {
      "cell_type": "code",
      "execution_count": null,
      "metadata": {
        "id": "mMdKcour_9ms"
      },
      "outputs": [],
      "source": [
        "import geopandas as gpd"
      ]
    },
    {
      "cell_type": "markdown",
      "source": [
        "https://www.ibge.gov.br/geociencias/organizacao-do-territorio/malhas-territoriais/15774-malhas.html"
      ],
      "metadata": {
        "id": "c585__WCFtdK"
      }
    },
    {
      "cell_type": "code",
      "source": [
        "url = 'https://github.com/alura-cursos/curso_geopandas/raw/main/dados/RJ_Municipios_2022.shp'"
      ],
      "metadata": {
        "id": "hhWZNHG3IOIV"
      },
      "execution_count": null,
      "outputs": []
    },
    {
      "cell_type": "code",
      "source": [
        "rj = gpd.read_file(url)"
      ],
      "metadata": {
        "id": "2XEtxSAWCTia"
      },
      "execution_count": null,
      "outputs": []
    },
    {
      "cell_type": "code",
      "source": [
        "type(rj)"
      ],
      "metadata": {
        "id": "2YqqOr5GIeEy"
      },
      "execution_count": null,
      "outputs": []
    },
    {
      "cell_type": "code",
      "source": [
        "rj.head()"
      ],
      "metadata": {
        "id": "95LhpdgiIQ32"
      },
      "execution_count": null,
      "outputs": []
    },
    {
      "cell_type": "code",
      "source": [
        "rj.plot()"
      ],
      "metadata": {
        "id": "8DcBkm66IVpy"
      },
      "execution_count": null,
      "outputs": []
    },
    {
      "cell_type": "code",
      "source": [
        "rj.plot(color='white',edgecolor='black',figsize=(15,8))"
      ],
      "metadata": {
        "id": "IZTDrJ9FIyc8"
      },
      "execution_count": null,
      "outputs": []
    },
    {
      "cell_type": "markdown",
      "source": [
        "## Vídeo 1.3 - Trabalhando com Shapefiles"
      ],
      "metadata": {
        "id": "Az0TMh4yR_pP"
      }
    },
    {
      "cell_type": "markdown",
      "source": [
        "Shapefiles são um formato de arquivo de dados geoespaciais desenvolvido pela Esri, uma das principais empresas de software de Sistemas de Informação Geográfica (SIG). Eles são amplamente utilizados para armazenar dados de localização geográfica e atributos associados a essa localização. Um shapefile na verdade consiste em um conjunto de arquivos correlacionados (.shp, .shx, .dbf, e potencialmente outros) que juntos expressam vetores geoespaciais - pontos, linhas ou polígonos - juntamente com informações atributivas, que podem incluir detalhes como nomes, categorias e outras características associadas a cada entidade geográfica. Shapefiles são comumente usados em uma variedade de campos, incluindo urbanismo, geografia, logística, e muitos outros que requerem a análise e a visualização de dados geoespaciais."
      ],
      "metadata": {
        "id": "HmZqpAQYa906"
      }
    },
    {
      "cell_type": "code",
      "source": [
        "rj.plot(color='white',edgecolor='black',figsize=(15,8))"
      ],
      "metadata": {
        "id": "T5VUCkewLHA4"
      },
      "execution_count": null,
      "outputs": []
    },
    {
      "cell_type": "code",
      "source": [
        "rj = rj[rj['NM_MUN']=='Rio de Janeiro']"
      ],
      "metadata": {
        "id": "i99Yoaq9TflW"
      },
      "execution_count": null,
      "outputs": []
    },
    {
      "cell_type": "code",
      "source": [
        "rj"
      ],
      "metadata": {
        "id": "l8OtqBqJT-pQ"
      },
      "execution_count": null,
      "outputs": []
    },
    {
      "cell_type": "code",
      "source": [
        "rj.plot(color='orange',edgecolor='black',figsize=(15,8))"
      ],
      "metadata": {
        "id": "KA_1Ob4ZUEOs"
      },
      "execution_count": null,
      "outputs": []
    },
    {
      "cell_type": "code",
      "source": [
        "rj.to_file('RJ-MUNIC.shp')"
      ],
      "metadata": {
        "id": "lxQCpScEUhcw"
      },
      "execution_count": null,
      "outputs": []
    },
    {
      "cell_type": "code",
      "source": [
        "rj_munic = gpd.read_file('RJ-MUNIC.shp')"
      ],
      "metadata": {
        "id": "kfkiGRu4VDkw"
      },
      "execution_count": null,
      "outputs": []
    },
    {
      "cell_type": "code",
      "source": [
        "rj_munic.plot(color='orange',edgecolor='black',figsize=(15,8))"
      ],
      "metadata": {
        "id": "DNSsEavIVTRL"
      },
      "execution_count": null,
      "outputs": []
    },
    {
      "cell_type": "markdown",
      "source": [
        "# Aula 2 - Sistemas de coordenadas\n"
      ],
      "metadata": {
        "id": "SfRPcuVlVfM9"
      }
    },
    {
      "cell_type": "markdown",
      "source": [
        "## Vídeo 2.1 - Preparando o dataframe"
      ],
      "metadata": {
        "id": "ffymkxAPnnY_"
      }
    },
    {
      "cell_type": "markdown",
      "source": [
        "Latitude e longitude são utilizadas para localizar qualquer ponto na Terra. Latitude é uma medida de graus ao norte ou ao sul do equador, que é definido como 0 grau, com os pólos norte e sul sendo +90 e -90 graus, respectivamente. Longitude, por outro lado, mede graus a leste ou oeste do meridiano principal, conhecido como Meridiano de Greenwich, que é definido como 0 grau. Os graus de longitude vão de -180 a +180. Combinando uma coordenada de latitude e uma de longitude, podemos especificar a localização exata de qualquer ponto na Terra.\n",
        "\n",
        "![](https://educa.ibge.gov.br/images/vamoscontar/atividades/mapa_mundo_coordenadas.jpg)\n",
        "\n",
        "Fonte: https://educa.ibge.gov.br/professores/educa-atividades/17650-linhas-imaginarias.html"
      ],
      "metadata": {
        "id": "a6a_uXslsunS"
      }
    },
    {
      "cell_type": "code",
      "source": [
        "import pandas as pd"
      ],
      "metadata": {
        "id": "s6alAMOYpUFB"
      },
      "execution_count": null,
      "outputs": []
    },
    {
      "cell_type": "code",
      "source": [
        "url = 'https://raw.githubusercontent.com/alura-cursos/curso_geopandas/main/dados/dados.csv'\n",
        "df = pd.read_csv(url,sep='\\t')"
      ],
      "metadata": {
        "id": "fy3IWXrdc-9L"
      },
      "execution_count": null,
      "outputs": []
    },
    {
      "cell_type": "code",
      "source": [
        "df.head()"
      ],
      "metadata": {
        "id": "jzR701Bgpc2H"
      },
      "execution_count": null,
      "outputs": []
    },
    {
      "cell_type": "code",
      "source": [
        "type(df)"
      ],
      "metadata": {
        "id": "jYVPDVz0peOa"
      },
      "execution_count": null,
      "outputs": []
    },
    {
      "cell_type": "code",
      "source": [
        "x = zip(df['Longitude'],df['Latitude'])\n",
        "x"
      ],
      "metadata": {
        "id": "FrH22izct350"
      },
      "execution_count": null,
      "outputs": []
    },
    {
      "cell_type": "code",
      "source": [
        "list(x)"
      ],
      "metadata": {
        "id": "92B8Uwgdv4Fb"
      },
      "execution_count": null,
      "outputs": []
    },
    {
      "cell_type": "code",
      "source": [
        "pontos_geometricos = [Point(x) for x in zip(df['Longitude'],df['Latitude'])]"
      ],
      "metadata": {
        "id": "iozCsuMTv7rk"
      },
      "execution_count": null,
      "outputs": []
    },
    {
      "cell_type": "code",
      "source": [
        "pontos_geometricos"
      ],
      "metadata": {
        "id": "D0DVYSlewctn"
      },
      "execution_count": null,
      "outputs": []
    },
    {
      "cell_type": "code",
      "source": [
        "crs = {'proj': 'latlong', 'ellps':'WGS84', 'datum': 'WGS84','no_defs':True}\n",
        "geo_dados = gpd.GeoDataFrame(df, crs=crs, geometry=pontos_geometricos)"
      ],
      "metadata": {
        "id": "mujS6scRweLm"
      },
      "execution_count": null,
      "outputs": []
    },
    {
      "cell_type": "code",
      "source": [
        "geo_dados.head()"
      ],
      "metadata": {
        "id": "eMKBYTm11Ytu"
      },
      "execution_count": null,
      "outputs": []
    },
    {
      "cell_type": "code",
      "source": [
        "geo_dados.to_file('DATASET.shp')"
      ],
      "metadata": {
        "id": "ACi-807V1cvB"
      },
      "execution_count": null,
      "outputs": []
    },
    {
      "cell_type": "code",
      "source": [
        "geo_dados.plot(alpha=0.2)"
      ],
      "metadata": {
        "id": "KgS-5ILp16vs"
      },
      "execution_count": null,
      "outputs": []
    },
    {
      "cell_type": "markdown",
      "source": [
        "## Vídeo 2.2 - Sistema de coordenadas"
      ],
      "metadata": {
        "id": "J2gIoNvX2dYg"
      }
    },
    {
      "cell_type": "code",
      "source": [
        "rj.crs"
      ],
      "metadata": {
        "id": "g4uk4BP72JOr"
      },
      "execution_count": null,
      "outputs": []
    },
    {
      "cell_type": "code",
      "source": [
        "geo_dados.crs"
      ],
      "metadata": {
        "id": "F5_T1_X5KJAB"
      },
      "execution_count": null,
      "outputs": []
    },
    {
      "cell_type": "markdown",
      "source": [
        "## Vídeo 2.3 - Modificando o sistemas de coordenadas"
      ],
      "metadata": {
        "id": "oNXIWPlwdmsd"
      }
    },
    {
      "cell_type": "markdown",
      "source": [
        "🤖 Qual a zona UTM em que o município do Rio de Janeiro está inserido?\n",
        "\n",
        "R: Zona UTM 23S"
      ],
      "metadata": {
        "id": "wkvzcapNOfzT"
      }
    },
    {
      "cell_type": "markdown",
      "source": [
        "🤖 Qual o EPSG para zona UTM 23S utilizando o SIRGAS 2000?\n",
        "\n",
        "R: EPSG 31983"
      ],
      "metadata": {
        "id": "dnYqh3B4UpPa"
      }
    },
    {
      "cell_type": "markdown",
      "source": [
        "https://www.spatialreference.org/"
      ],
      "metadata": {
        "id": "vfE65O1uaeu0"
      }
    },
    {
      "cell_type": "code",
      "source": [
        "rj = rj.to_crs('+proj=utm +zone=23 +south +ellps=GRS80 +towgs84=0,0,0,0,0,0,0 +units=km +no_defs')"
      ],
      "metadata": {
        "id": "Y3y6DN-MNaCM"
      },
      "execution_count": null,
      "outputs": []
    },
    {
      "cell_type": "code",
      "source": [
        "geo_dados = geo_dados.to_crs('+proj=utm +zone=23 +south +ellps=GRS80 +towgs84=0,0,0,0,0,0,0 +units=km +no_defs')"
      ],
      "metadata": {
        "id": "_DCH7ekScCY7"
      },
      "execution_count": null,
      "outputs": []
    },
    {
      "cell_type": "code",
      "source": [
        "rj.crs"
      ],
      "metadata": {
        "id": "PTXeApkYcSQE"
      },
      "execution_count": null,
      "outputs": []
    },
    {
      "cell_type": "code",
      "source": [
        "geo_dados.crs"
      ],
      "metadata": {
        "id": "ZsSkFKRncXhB"
      },
      "execution_count": null,
      "outputs": []
    },
    {
      "cell_type": "code",
      "source": [
        "rj.plot()"
      ],
      "metadata": {
        "id": "Ld62nmyNcZlh"
      },
      "execution_count": null,
      "outputs": []
    },
    {
      "cell_type": "markdown",
      "source": [
        "# Aula 3 - Filtrando imóveis por região"
      ],
      "metadata": {
        "id": "b_7HPSj0d5BW"
      }
    },
    {
      "cell_type": "markdown",
      "source": [
        "## Vídeo 3.1 - Identificando outliers"
      ],
      "metadata": {
        "id": "BAnQ9WW9ik0t"
      }
    },
    {
      "cell_type": "code",
      "source": [
        "base = rj.plot(color='black',edgecolor='black',figsize=(15,10))\n",
        "geo_dados.plot(ax=base,figsize=(15,10),alpha=0.2)"
      ],
      "metadata": {
        "id": "74PtDY6hhA24"
      },
      "execution_count": null,
      "outputs": []
    },
    {
      "cell_type": "code",
      "source": [
        "rj.iloc[0].geometry"
      ],
      "metadata": {
        "id": "dzhvEpphhRs7"
      },
      "execution_count": null,
      "outputs": []
    },
    {
      "cell_type": "code",
      "source": [
        "geo_dados.iloc[0].geometry"
      ],
      "metadata": {
        "id": "ob_UpC_Dh75v"
      },
      "execution_count": null,
      "outputs": []
    },
    {
      "cell_type": "code",
      "source": [
        "geo_dados.iloc[0].geometry.within(rj.iloc[0].geometry)"
      ],
      "metadata": {
        "id": "TlAr4kI-iBYD"
      },
      "execution_count": null,
      "outputs": []
    },
    {
      "cell_type": "markdown",
      "source": [
        "## Vídeo 3.2 - Selecionando dados em uma região"
      ],
      "metadata": {
        "id": "5gYBHFBRokWO"
      }
    },
    {
      "cell_type": "code",
      "source": [
        "geo_dados['geometry'].within(rj.iloc[0].geometry)"
      ],
      "metadata": {
        "id": "5qLkhHYfieUH"
      },
      "execution_count": null,
      "outputs": []
    },
    {
      "cell_type": "code",
      "source": [
        "geo_dados.shape[0]"
      ],
      "metadata": {
        "id": "KAYHHXPsqFOf"
      },
      "execution_count": null,
      "outputs": []
    },
    {
      "cell_type": "code",
      "source": [
        "geo_dados = geo_dados[geo_dados['geometry'].within(rj.iloc[0].geometry)]"
      ],
      "metadata": {
        "id": "URCipRgFq0e8"
      },
      "execution_count": null,
      "outputs": []
    },
    {
      "cell_type": "code",
      "source": [
        "geo_dados.shape[0]"
      ],
      "metadata": {
        "id": "CEFsfldKq9Z6"
      },
      "execution_count": null,
      "outputs": []
    },
    {
      "cell_type": "code",
      "source": [
        "base = rj.plot(color='white',edgecolor='black',figsize=(15,10))\n",
        "geo_dados.plot(ax=base,figsize=(15,10),alpha=0.2)"
      ],
      "metadata": {
        "id": "Xtauxg2OrLQy"
      },
      "execution_count": null,
      "outputs": []
    },
    {
      "cell_type": "markdown",
      "source": [
        "## Vídeo 3.3 - Acrescentando estações do metrô"
      ],
      "metadata": {
        "id": "wq7bATBqrkb7"
      }
    },
    {
      "cell_type": "markdown",
      "source": [
        "https://www.data.rio/"
      ],
      "metadata": {
        "id": "a1t7QTjZJ3SS"
      }
    },
    {
      "cell_type": "markdown",
      "source": [
        "https://www.data.rio/datasets/PCRJ::esta%C3%A7%C3%B5es-metr%C3%B4/explore?location=-22.843796%2C-43.262511%2C11.95"
      ],
      "metadata": {
        "id": "2k6og6m-Khdi"
      }
    },
    {
      "cell_type": "code",
      "source": [
        "url_m = 'https://github.com/alura-cursos/curso_geopandas/raw/main/dados/metro.geojson'"
      ],
      "metadata": {
        "id": "nUxuIOVarOew"
      },
      "execution_count": null,
      "outputs": []
    },
    {
      "cell_type": "code",
      "source": [
        "metro = gpd.read_file(url_m)"
      ],
      "metadata": {
        "id": "L81jKwBpQAsQ"
      },
      "execution_count": null,
      "outputs": []
    },
    {
      "cell_type": "code",
      "source": [
        "metro.crs"
      ],
      "metadata": {
        "id": "ilhjwZMjQEpw"
      },
      "execution_count": null,
      "outputs": []
    },
    {
      "cell_type": "code",
      "source": [
        "metro = metro.to_crs('+proj=utm +zone=23 +south +ellps=GRS80 +towgs84=0,0,0,0,0,0,0 +units=km +no_defs')"
      ],
      "metadata": {
        "id": "C7RAm7LfTl5n"
      },
      "execution_count": null,
      "outputs": []
    },
    {
      "cell_type": "code",
      "source": [
        "metro.crs"
      ],
      "metadata": {
        "id": "L4wvLsOnT4vA"
      },
      "execution_count": null,
      "outputs": []
    },
    {
      "cell_type": "code",
      "source": [
        "base = rj.plot(color='white',edgecolor='black',figsize=(15,10))\n",
        "geo_dados.plot(ax=base,figsize=(15,10),alpha=0.2)\n",
        "metro.plot(ax=base, color='red',markersize=50)"
      ],
      "metadata": {
        "id": "TdwRRCmVT8n2"
      },
      "execution_count": null,
      "outputs": []
    },
    {
      "cell_type": "markdown",
      "source": [
        "# Aula 4 - Calculando distâncias"
      ],
      "metadata": {
        "id": "78enOeoYVBOR"
      }
    },
    {
      "cell_type": "markdown",
      "source": [
        "## Vídeo 4.1 - Estação do metrô mais próxima"
      ],
      "metadata": {
        "id": "NxWLz3HWVEBA"
      }
    },
    {
      "cell_type": "code",
      "source": [
        "geo_dados.iloc[0].geometry"
      ],
      "metadata": {
        "id": "avvBdeksUfjX"
      },
      "execution_count": null,
      "outputs": []
    },
    {
      "cell_type": "code",
      "source": [
        "distancias = metro.distance(geo_dados.iloc[0].geometry)"
      ],
      "metadata": {
        "id": "DkvGoOc9Xof-"
      },
      "execution_count": null,
      "outputs": []
    },
    {
      "cell_type": "code",
      "source": [
        "type(distancias)"
      ],
      "metadata": {
        "id": "5STQXYGoX3qu"
      },
      "execution_count": null,
      "outputs": []
    },
    {
      "cell_type": "code",
      "source": [
        "distancias.min()"
      ],
      "metadata": {
        "id": "LvkRDmtOX5M1"
      },
      "execution_count": null,
      "outputs": []
    },
    {
      "cell_type": "code",
      "source": [
        "geo_dados['Dist_metro'] = geo_dados['geometry'].apply(lambda x: metro.distance(x).min())"
      ],
      "metadata": {
        "id": "Vnp3JWKSYJ7e"
      },
      "execution_count": null,
      "outputs": []
    },
    {
      "cell_type": "code",
      "source": [
        "geo_dados.head()"
      ],
      "metadata": {
        "id": "V8dxYSw0uVlx"
      },
      "execution_count": null,
      "outputs": []
    },
    {
      "cell_type": "code",
      "source": [
        "correlacao = geo_dados.corr()"
      ],
      "metadata": {
        "id": "Z67sbULRvj6G"
      },
      "execution_count": null,
      "outputs": []
    },
    {
      "cell_type": "code",
      "source": [
        "import seaborn as sns\n",
        "sns.heatmap(correlacao, annot=True, cmap='RdYlBu', linewidths=0.5)"
      ],
      "metadata": {
        "id": "jHCVZsvbv_4m"
      },
      "execution_count": null,
      "outputs": []
    },
    {
      "cell_type": "markdown",
      "source": [
        "## Vídeo 4.2 - Agregando dados de transportes"
      ],
      "metadata": {
        "id": "vFwvaopFyG_N"
      }
    },
    {
      "cell_type": "code",
      "source": [
        "url_t = 'https://github.com/alura-cursos/curso_geopandas/raw/main/dados/trem.geojson'"
      ],
      "metadata": {
        "id": "EuLnuTMqwFcm"
      },
      "execution_count": null,
      "outputs": []
    },
    {
      "cell_type": "code",
      "source": [
        "trem = gpd.read_file(url_t)\n",
        "trem = trem.to_crs('+proj=utm +zone=23 +south +ellps=GRS80 +towgs84=0,0,0,0,0,0,0 +units=km +no_defs')"
      ],
      "metadata": {
        "id": "WT_SQTPqE1Nw"
      },
      "execution_count": null,
      "outputs": []
    },
    {
      "cell_type": "code",
      "source": [
        "url_b = 'https://github.com/alura-cursos/curso_geopandas/raw/main/dados/brt.geojson'\n",
        "\n",
        "brt = gpd.read_file(url_b)\n",
        "brt = brt.to_crs('+proj=utm +zone=23 +south +ellps=GRS80 +towgs84=0,0,0,0,0,0,0 +units=km +no_defs')"
      ],
      "metadata": {
        "id": "du2i0PtBF0CS"
      },
      "execution_count": null,
      "outputs": []
    },
    {
      "cell_type": "code",
      "source": [
        "trem = trem[trem.within(rj.iloc[0].geometry)]\n",
        "brt = brt[brt.within(rj.iloc[0].geometry)]"
      ],
      "metadata": {
        "id": "eyawVmIHaDf6"
      },
      "execution_count": null,
      "outputs": []
    },
    {
      "cell_type": "code",
      "source": [
        "base = rj.plot(color='white',edgecolor='black',figsize=(15,10))\n",
        "geo_dados.plot(ax=base,figsize=(15,10),alpha=0.2)\n",
        "metro.plot(ax=base, color='#b60a1c',markersize=50)\n",
        "trem.plot(ax=base, color='#e39802',markersize=50)\n",
        "brt.plot(ax=base, color='#309143',markersize=50)\n",
        "\n",
        "base.legend(['Imóveis','Metrô','Trem','BRT'],loc='upper left')"
      ],
      "metadata": {
        "id": "DeKnpv5NXrCY"
      },
      "execution_count": null,
      "outputs": []
    },
    {
      "cell_type": "code",
      "source": [
        "transporte = pd.concat([trem.geometry,metro.geometry,brt.geometry],ignore_index = True)"
      ],
      "metadata": {
        "id": "tNWHIfGmZeKM"
      },
      "execution_count": null,
      "outputs": []
    },
    {
      "cell_type": "code",
      "source": [
        "type(transporte)"
      ],
      "metadata": {
        "id": "0gd7GLbXzyrN"
      },
      "execution_count": null,
      "outputs": []
    },
    {
      "cell_type": "code",
      "source": [
        "geo_dados['Dist_Transporte'] = geo_dados['geometry'].apply(lambda x: transporte.distance(x).min())"
      ],
      "metadata": {
        "id": "jLJk3ta8hmjn"
      },
      "execution_count": null,
      "outputs": []
    },
    {
      "cell_type": "code",
      "source": [
        "geo_dados.head()"
      ],
      "metadata": {
        "id": "xWQlwJQyi59M"
      },
      "execution_count": null,
      "outputs": []
    },
    {
      "cell_type": "code",
      "source": [
        "correlacao = geo_dados.corr()"
      ],
      "metadata": {
        "id": "d7ImHoHujElm"
      },
      "execution_count": null,
      "outputs": []
    },
    {
      "cell_type": "code",
      "source": [
        "sns.heatmap(correlacao, annot=True, cmap='RdYlBu', linewidths=0.5)"
      ],
      "metadata": {
        "id": "Qo9Ay_E7jFYN"
      },
      "execution_count": null,
      "outputs": []
    },
    {
      "cell_type": "markdown",
      "source": [
        "## Vídeo 4.3 - Calculando a distância até a praia"
      ],
      "metadata": {
        "id": "oJl1jSrg6ffE"
      }
    },
    {
      "cell_type": "code",
      "source": [
        "url_p = '/content/drive/MyDrive/Alura/Cursos/3060 - Dados Geográficos: Geopandas/Cobertura_Vegetal_e_Uso_da_Terra_2018.geojson'"
      ],
      "metadata": {
        "id": "OLAFTSCMmXRR"
      },
      "execution_count": null,
      "outputs": []
    },
    {
      "cell_type": "code",
      "source": [
        "praias = gpd.read_file(url_p)"
      ],
      "metadata": {
        "id": "DkNhBA0j3gDb"
      },
      "execution_count": null,
      "outputs": []
    },
    {
      "cell_type": "code",
      "source": [
        "praias.head()"
      ],
      "metadata": {
        "id": "FpHwtZYJ6k1o"
      },
      "execution_count": null,
      "outputs": []
    },
    {
      "cell_type": "code",
      "source": [
        "praias.crs"
      ],
      "metadata": {
        "id": "jQFslMt76q37"
      },
      "execution_count": null,
      "outputs": []
    },
    {
      "cell_type": "code",
      "source": [
        "praias = praias.to_crs('+proj=utm +zone=23 +south +ellps=GRS80 +towgs84=0,0,0,0,0,0,0 +units=km +no_defs')"
      ],
      "metadata": {
        "id": "a9hR_cIc9SmS"
      },
      "execution_count": null,
      "outputs": []
    },
    {
      "cell_type": "code",
      "source": [
        "praias.crs"
      ],
      "metadata": {
        "id": "C5l6hSYs9oeW"
      },
      "execution_count": null,
      "outputs": []
    },
    {
      "cell_type": "code",
      "source": [
        "praias.plot(color='white',edgecolor='black',figsize=(15,8))"
      ],
      "metadata": {
        "id": "tMF1B-xx9qtV"
      },
      "execution_count": null,
      "outputs": []
    },
    {
      "cell_type": "code",
      "source": [
        "praias['classe'].unique()"
      ],
      "metadata": {
        "id": "cgSTKJbH9ukR"
      },
      "execution_count": null,
      "outputs": []
    },
    {
      "cell_type": "code",
      "source": [
        "praias = praias[praias['classe'] == 'Praia']"
      ],
      "metadata": {
        "id": "HcxLoRtE93mW"
      },
      "execution_count": null,
      "outputs": []
    },
    {
      "cell_type": "code",
      "source": [
        "praias.plot(color='white',edgecolor='black',figsize=(15,8))"
      ],
      "metadata": {
        "id": "rtoakGxH-ODs"
      },
      "execution_count": null,
      "outputs": []
    },
    {
      "cell_type": "code",
      "source": [
        "base = rj.plot(color='white',edgecolor='black',alpha=0.4,figsize=(15,10))\n",
        "praias.plot(ax=base,color='white',edgecolor='black')\n",
        "geo_dados.plot(ax=base,figsize=(15,10),alpha=0.2)"
      ],
      "metadata": {
        "id": "PvLPFFx0-PxD"
      },
      "execution_count": null,
      "outputs": []
    },
    {
      "cell_type": "code",
      "source": [
        "geo_dados['Dist_Praia'] = geo_dados['geometry'].apply(lambda x: praias.distance(x).min())"
      ],
      "metadata": {
        "id": "KanReBc7_6KX"
      },
      "execution_count": null,
      "outputs": []
    },
    {
      "cell_type": "code",
      "source": [
        "correlacao = geo_dados.corr()"
      ],
      "metadata": {
        "id": "LDaydD78CtWQ"
      },
      "execution_count": null,
      "outputs": []
    },
    {
      "cell_type": "code",
      "source": [
        "sns.heatmap(correlacao, annot=True, cmap='RdYlBu', linewidths=0.5)"
      ],
      "metadata": {
        "id": "sMacVlZHEGNt"
      },
      "execution_count": null,
      "outputs": []
    },
    {
      "cell_type": "code",
      "source": [
        "sns.scatterplot(x='Dist_Praia',y='Valor',data=geo_dados)"
      ],
      "metadata": {
        "id": "RuUYzCkQEKTR"
      },
      "execution_count": null,
      "outputs": []
    }
  ]
}