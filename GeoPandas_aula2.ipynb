{
  "nbformat": 4,
  "nbformat_minor": 0,
  "metadata": {
    "colab": {
      "provenance": [],
      "toc_visible": true
    },
    "kernelspec": {
      "name": "python3",
      "display_name": "Python 3"
    },
    "language_info": {
      "name": "python"
    }
  },
  "cells": [
    {
      "cell_type": "markdown",
      "source": [
        "# Aula 1"
      ],
      "metadata": {
        "id": "wRLQJ-w4CgYl"
      }
    },
    {
      "cell_type": "markdown",
      "source": [
        "## Vídeo 1.2 - Biblioteca e os dados"
      ],
      "metadata": {
        "id": "e6crW9ELCk9n"
      }
    },
    {
      "cell_type": "markdown",
      "source": [
        "GeoPandas é uma biblioteca de código aberto em Python que facilita a manipulação e análise de dados geoespaciais. Ela estende a funcionalidade da biblioteca pandas, amplamente usada para manipulação de dados, adicionando suporte para operações geoespaciais. Isso inclui a capacidade de ler e escrever diferentes formatos de arquivo geoespaciais (como Shapefiles, GeoJSON, etc.), realizar operações geoespaciais (como união espacial, interseção, etc.), e criar visualizações geoespaciais. A GeoPandas integra-se bem com outras bibliotecas Python amplamente utilizadas, como Matplotlib para visualização e NumPy para manipulação de dados numéricos. Ao proporcionar uma interface de alto nível e fácil de usar para operações geoespaciais complexas, a GeoPandas tornou-se uma ferramenta importante para geocientistas, urbanistas e outros que trabalham com dados geoespaciais."
      ],
      "metadata": {
        "id": "Rcf5ynlKbUPR"
      }
    },
    {
      "cell_type": "code",
      "source": [
        "!pip install geopandas"
      ],
      "metadata": {
        "id": "sLpUAIUWCKfD"
      },
      "execution_count": null,
      "outputs": []
    },
    {
      "cell_type": "code",
      "execution_count": null,
      "metadata": {
        "id": "mMdKcour_9ms"
      },
      "outputs": [],
      "source": [
        "import geopandas as gpd"
      ]
    },
    {
      "cell_type": "markdown",
      "source": [
        "https://www.ibge.gov.br/geociencias/organizacao-do-territorio/malhas-territoriais/15774-malhas.html"
      ],
      "metadata": {
        "id": "c585__WCFtdK"
      }
    },
    {
      "cell_type": "code",
      "source": [
        "url = 'https://github.com/alura-cursos/curso_geopandas/raw/main/dados/RJ_Municipios_2022.shp'"
      ],
      "metadata": {
        "id": "hhWZNHG3IOIV"
      },
      "execution_count": null,
      "outputs": []
    },
    {
      "cell_type": "code",
      "source": [
        "rj = gpd.read_file(url)"
      ],
      "metadata": {
        "id": "2XEtxSAWCTia"
      },
      "execution_count": null,
      "outputs": []
    },
    {
      "cell_type": "code",
      "source": [
        "type(rj)"
      ],
      "metadata": {
        "id": "2YqqOr5GIeEy"
      },
      "execution_count": null,
      "outputs": []
    },
    {
      "cell_type": "code",
      "source": [
        "rj.head()"
      ],
      "metadata": {
        "id": "95LhpdgiIQ32"
      },
      "execution_count": null,
      "outputs": []
    },
    {
      "cell_type": "code",
      "source": [
        "rj.plot()"
      ],
      "metadata": {
        "id": "8DcBkm66IVpy"
      },
      "execution_count": null,
      "outputs": []
    },
    {
      "cell_type": "code",
      "source": [
        "rj.plot(color='white',edgecolor='black',figsize=(15,8))"
      ],
      "metadata": {
        "id": "IZTDrJ9FIyc8"
      },
      "execution_count": null,
      "outputs": []
    },
    {
      "cell_type": "markdown",
      "source": [
        "## Vídeo 1.3 - Trabalhando com Shapefiles"
      ],
      "metadata": {
        "id": "Az0TMh4yR_pP"
      }
    },
    {
      "cell_type": "markdown",
      "source": [
        "Shapefiles são um formato de arquivo de dados geoespaciais desenvolvido pela Esri, uma das principais empresas de software de Sistemas de Informação Geográfica (SIG). Eles são amplamente utilizados para armazenar dados de localização geográfica e atributos associados a essa localização. Um shapefile na verdade consiste em um conjunto de arquivos correlacionados (.shp, .shx, .dbf, e potencialmente outros) que juntos expressam vetores geoespaciais - pontos, linhas ou polígonos - juntamente com informações atributivas, que podem incluir detalhes como nomes, categorias e outras características associadas a cada entidade geográfica. Shapefiles são comumente usados em uma variedade de campos, incluindo urbanismo, geografia, logística, e muitos outros que requerem a análise e a visualização de dados geoespaciais."
      ],
      "metadata": {
        "id": "HmZqpAQYa906"
      }
    },
    {
      "cell_type": "code",
      "source": [
        "rj.plot(color='white',edgecolor='black',figsize=(15,8))"
      ],
      "metadata": {
        "id": "T5VUCkewLHA4"
      },
      "execution_count": null,
      "outputs": []
    },
    {
      "cell_type": "code",
      "source": [
        "rj = rj[rj['NM_MUN']=='Rio de Janeiro']"
      ],
      "metadata": {
        "id": "i99Yoaq9TflW"
      },
      "execution_count": null,
      "outputs": []
    },
    {
      "cell_type": "code",
      "source": [
        "rj"
      ],
      "metadata": {
        "id": "l8OtqBqJT-pQ"
      },
      "execution_count": null,
      "outputs": []
    },
    {
      "cell_type": "code",
      "source": [
        "rj.plot(color='orange',edgecolor='black',figsize=(15,8))"
      ],
      "metadata": {
        "id": "KA_1Ob4ZUEOs"
      },
      "execution_count": null,
      "outputs": []
    },
    {
      "cell_type": "code",
      "source": [
        "rj.to_file('RJ-MUNIC.shp')"
      ],
      "metadata": {
        "id": "lxQCpScEUhcw"
      },
      "execution_count": null,
      "outputs": []
    },
    {
      "cell_type": "code",
      "source": [
        "rj_munic = gpd.read_file('RJ-MUNIC.shp')"
      ],
      "metadata": {
        "id": "kfkiGRu4VDkw"
      },
      "execution_count": null,
      "outputs": []
    },
    {
      "cell_type": "code",
      "source": [
        "rj_munic.plot(color='orange',edgecolor='black',figsize=(15,8))"
      ],
      "metadata": {
        "id": "DNSsEavIVTRL"
      },
      "execution_count": null,
      "outputs": []
    },
    {
      "cell_type": "markdown",
      "source": [
        "# Aula 2 - Sistemas de coordenadas\n"
      ],
      "metadata": {
        "id": "SfRPcuVlVfM9"
      }
    },
    {
      "cell_type": "markdown",
      "source": [
        "## Vídeo 2.1 - Preparando o dataframe"
      ],
      "metadata": {
        "id": "ffymkxAPnnY_"
      }
    },
    {
      "cell_type": "markdown",
      "source": [
        "Latitude e longitude são utilizadas para localizar qualquer ponto na Terra. Latitude é uma medida de graus ao norte ou ao sul do equador, que é definido como 0 grau, com os pólos norte e sul sendo +90 e -90 graus, respectivamente. Longitude, por outro lado, mede graus a leste ou oeste do meridiano principal, conhecido como Meridiano de Greenwich, que é definido como 0 grau. Os graus de longitude vão de -180 a +180. Combinando uma coordenada de latitude e uma de longitude, podemos especificar a localização exata de qualquer ponto na Terra.\n",
        "\n",
        "![](https://educa.ibge.gov.br/images/vamoscontar/atividades/mapa_mundo_coordenadas.jpg)\n",
        "\n",
        "Fonte: https://educa.ibge.gov.br/professores/educa-atividades/17650-linhas-imaginarias.html"
      ],
      "metadata": {
        "id": "a6a_uXslsunS"
      }
    },
    {
      "cell_type": "code",
      "source": [
        "import pandas as pd"
      ],
      "metadata": {
        "id": "s6alAMOYpUFB"
      },
      "execution_count": null,
      "outputs": []
    },
    {
      "cell_type": "code",
      "source": [
        "url = 'https://raw.githubusercontent.com/alura-cursos/curso_geopandas/main/dados/dados.csv'\n",
        "df = pd.read_csv(url,sep='\\t')"
      ],
      "metadata": {
        "id": "fy3IWXrdc-9L"
      },
      "execution_count": null,
      "outputs": []
    },
    {
      "cell_type": "code",
      "source": [
        "df.head()"
      ],
      "metadata": {
        "id": "jzR701Bgpc2H"
      },
      "execution_count": null,
      "outputs": []
    },
    {
      "cell_type": "code",
      "source": [
        "type(df)"
      ],
      "metadata": {
        "id": "jYVPDVz0peOa"
      },
      "execution_count": null,
      "outputs": []
    },
    {
      "cell_type": "code",
      "source": [
        "x = zip(df['Longitude'],df['Latitude'])\n",
        "x"
      ],
      "metadata": {
        "id": "FrH22izct350"
      },
      "execution_count": null,
      "outputs": []
    },
    {
      "cell_type": "code",
      "source": [
        "list(x)"
      ],
      "metadata": {
        "id": "92B8Uwgdv4Fb"
      },
      "execution_count": null,
      "outputs": []
    },
    {
      "cell_type": "code",
      "source": [
        "pontos_geometricos = [Point(x) for x in zip(df['Longitude'],df['Latitude'])]"
      ],
      "metadata": {
        "id": "iozCsuMTv7rk"
      },
      "execution_count": null,
      "outputs": []
    },
    {
      "cell_type": "code",
      "source": [
        "pontos_geometricos"
      ],
      "metadata": {
        "id": "D0DVYSlewctn"
      },
      "execution_count": null,
      "outputs": []
    },
    {
      "cell_type": "code",
      "source": [
        "crs = {'proj': 'latlong', 'ellps':'WGS84', 'datum': 'WGS84','no_defs':True}\n",
        "geo_dados = gpd.GeoDataFrame(df, crs=crs, geometry=pontos_geometricos)"
      ],
      "metadata": {
        "id": "mujS6scRweLm"
      },
      "execution_count": null,
      "outputs": []
    },
    {
      "cell_type": "code",
      "source": [
        "geo_dados.head()"
      ],
      "metadata": {
        "id": "eMKBYTm11Ytu"
      },
      "execution_count": null,
      "outputs": []
    },
    {
      "cell_type": "code",
      "source": [
        "geo_dados.to_file('DATASET.shp')"
      ],
      "metadata": {
        "id": "ACi-807V1cvB"
      },
      "execution_count": null,
      "outputs": []
    },
    {
      "cell_type": "code",
      "source": [
        "geo_dados.plot(alpha=0.2)"
      ],
      "metadata": {
        "id": "KgS-5ILp16vs"
      },
      "execution_count": null,
      "outputs": []
    },
    {
      "cell_type": "markdown",
      "source": [
        "## Vídeo 2.2 - Sistema de coordenadas"
      ],
      "metadata": {
        "id": "J2gIoNvX2dYg"
      }
    },
    {
      "cell_type": "code",
      "source": [
        "rj.crs"
      ],
      "metadata": {
        "id": "g4uk4BP72JOr"
      },
      "execution_count": null,
      "outputs": []
    },
    {
      "cell_type": "code",
      "source": [
        "geo_dados.crs"
      ],
      "metadata": {
        "id": "F5_T1_X5KJAB"
      },
      "execution_count": null,
      "outputs": []
    },
    {
      "cell_type": "markdown",
      "source": [
        "## Vídeo 2.3 - Modificando o sistemas de coordenadas"
      ],
      "metadata": {
        "id": "oNXIWPlwdmsd"
      }
    },
    {
      "cell_type": "markdown",
      "source": [
        "🤖 Qual a zona UTM em que o município do Rio de Janeiro está inserido?\n",
        "\n",
        "R: Zona UTM 23S"
      ],
      "metadata": {
        "id": "wkvzcapNOfzT"
      }
    },
    {
      "cell_type": "markdown",
      "source": [
        "🤖 Qual o EPSG para zona UTM 23S utilizando o SIRGAS 2000?\n",
        "\n",
        "R: EPSG 31983"
      ],
      "metadata": {
        "id": "dnYqh3B4UpPa"
      }
    },
    {
      "cell_type": "markdown",
      "source": [
        "https://www.spatialreference.org/"
      ],
      "metadata": {
        "id": "vfE65O1uaeu0"
      }
    },
    {
      "cell_type": "code",
      "source": [
        "rj = rj.to_crs('+proj=utm +zone=23 +south +ellps=GRS80 +towgs84=0,0,0,0,0,0,0 +units=km +no_defs')"
      ],
      "metadata": {
        "id": "Y3y6DN-MNaCM"
      },
      "execution_count": null,
      "outputs": []
    },
    {
      "cell_type": "code",
      "source": [
        "geo_dados = geo_dados.to_crs('+proj=utm +zone=23 +south +ellps=GRS80 +towgs84=0,0,0,0,0,0,0 +units=km +no_defs')"
      ],
      "metadata": {
        "id": "_DCH7ekScCY7"
      },
      "execution_count": null,
      "outputs": []
    },
    {
      "cell_type": "code",
      "source": [
        "rj.crs"
      ],
      "metadata": {
        "id": "PTXeApkYcSQE"
      },
      "execution_count": null,
      "outputs": []
    },
    {
      "cell_type": "code",
      "source": [
        "geo_dados.crs"
      ],
      "metadata": {
        "id": "ZsSkFKRncXhB"
      },
      "execution_count": null,
      "outputs": []
    },
    {
      "cell_type": "code",
      "source": [
        "rj.plot()"
      ],
      "metadata": {
        "id": "Ld62nmyNcZlh"
      },
      "execution_count": null,
      "outputs": []
    }
  ]
}